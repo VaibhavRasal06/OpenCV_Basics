{
 "cells": [
  {
   "cell_type": "code",
   "execution_count": null,
   "id": "3afcfe4d-7d6e-4575-aae1-15ac1a70c220",
   "metadata": {},
   "outputs": [],
   "source": [
    "##IMAGE SMOOTHENING OR BLURING##"
   ]
  },
  {
   "cell_type": "code",
   "execution_count": 1,
   "id": "5c3291ae-f71b-4896-9c70-c845c10cd6d6",
   "metadata": {},
   "outputs": [],
   "source": [
    "#1.AVERAGE_BLUR\n",
    "\n",
    "\n",
    "##here in 4th line we add resize function to resize the image. and 600,600 is a pixels size may be something like that..\n",
    "## here in 5th line we add blur function. and 5,5 is may be blur internsity of the picture. blur fuction is to reduce noise from image.\n",
    "##and in 7th line we again add imshow function to show image as blur\n",
    "import cv2\n",
    "import numpy as np\n",
    "img=cv2.imread(\"C:\\\\Users\\\\Admin\\\\Pictures\\\\Akash_edited.jpg\")\n",
    "img=cv2.resize(img,(600,600))\n",
    "blur=cv2.blur(img,(5,5))\n",
    "cv2.imshow(\"me\",img)\n",
    "cv2.imshow(\"blur_image\",blur)\n",
    "cv2.waitKey(0)\n",
    "cv2.destroyAllWindows()"
   ]
  },
  {
   "cell_type": "code",
   "execution_count": 2,
   "id": "f4b0fe88-dca7-414f-a182-f52f0427e786",
   "metadata": {},
   "outputs": [],
   "source": [
    "#2. Gaussian_Blur\n",
    "##in that Gaussian_blur function we use 3 co-orinates like here 5,5,0\n",
    "##it is used to if in the image surrounding background is already is blur then it blur image..\n",
    "## this is also used to boundry detection or edge detection also..\n",
    "import cv2\n",
    "import numpy as np\n",
    "img=cv2.imread(\"C:\\\\Users\\\\Admin\\\\Pictures\\\\1659202407980.jpg\")\n",
    "img=cv2.resize(img,(600,600))\n",
    "\n",
    "Gaussian_blur=cv2.GaussianBlur(img,(5,5),0)\n",
    "cv2.imshow(\"me\",img)\n",
    "cv2.imshow(\"Gaussian_blur_image\",Gaussian_blur)\n",
    "cv2.waitKey(0)\n",
    "cv2.destroyAllWindows()"
   ]
  },
  {
   "cell_type": "code",
   "execution_count": 3,
   "id": "381f6013-f5ca-407b-8bf2-8becf40a8c19",
   "metadata": {},
   "outputs": [],
   "source": [
    "#3.Median_blur\n",
    "#it is quite similar to Gaussian_blur.\n",
    "##in that median function line 9 value thakes because it must be big than 2.\n",
    "##if i takes 5 instead of 9 then the blur intensity become just low.\n",
    "\n",
    "import cv2\n",
    "import numpy as np\n",
    "img=cv2.imread(\"C:\\\\Users\\\\Admin\\\\Pictures\\\\Akash_edited.jpg\")\n",
    "img=cv2.resize(img,(600,600))\n",
    "\n",
    "median_blur=cv2.medianBlur(img,5)\n",
    "cv2.imshow(\"me\",img)\n",
    "cv2.imshow(\"median_blur_image\",median_blur)\n",
    "cv2.waitKey(0)\n",
    "cv2.destroyAllWindows()"
   ]
  },
  {
   "cell_type": "code",
   "execution_count": null,
   "id": "267b48d0-5a7f-470e-b19a-8a0c3dade50a",
   "metadata": {},
   "outputs": [],
   "source": [
    "#4.Image_Filtering\n",
    "#it is process of filtering image by means of changing shades.\n",
    "# this has two types A.Bilateral Filter B.Box Filter\n",
    "# A. Bilateral Filter\n",
    "#it can reduce unwanted noise very well while keeping edges.\n",
    "\n",
    "import cv2\n",
    "import numpy as np\n",
    "img=cv2.imread(\"C:\\\\Users\\\\Admin\\\\Pictures\\\\20210806_163812.jpg\")\n",
    "img=cv2.resize(img,(600,600))\n",
    "\n",
    "bilateral_filter=cv2.bilateralFilter(img,9,75,75)\n",
    "cv2.imshow(\"me\",img)\n",
    "cv2.imshow(\"bilateral_filter\",bilateral_filter)\n",
    "cv2.waitKey(0)\n",
    "cv2.destroyAllWindows()"
   ]
  },
  {
   "cell_type": "code",
   "execution_count": 4,
   "id": "23b30e5a-a997-4a4b-9635-d002fa525188",
   "metadata": {},
   "outputs": [],
   "source": [
    "#B.Box Filter\n",
    "import cv2\n",
    "import numpy as np\n",
    "img=cv2.imread(r\"D:\\OpenCV\\Image\\Bahubali2 - Copy.jpeg\")\n",
    "img=cv2.resize(img,(600,600))\n",
    "\n",
    "box_filter=cv2.boxFilter(img,0,(7,7))\n",
    "cv2.imshow(\"me\",img)\n",
    "cv2.imshow(\"box_filter\",box_filter)\n",
    "cv2.waitKey(0)\n",
    "cv2.destroyAllWindows()"
   ]
  },
  {
   "cell_type": "code",
   "execution_count": null,
   "id": "7e782b32-9c4c-40cf-840d-459301124989",
   "metadata": {},
   "outputs": [],
   "source": []
  }
 ],
 "metadata": {
  "kernelspec": {
   "display_name": "Python 3.9.12 ('base')",
   "language": "python",
   "name": "python3"
  },
  "language_info": {
   "codemirror_mode": {
    "name": "ipython",
    "version": 3
   },
   "file_extension": ".py",
   "mimetype": "text/x-python",
   "name": "python",
   "nbconvert_exporter": "python",
   "pygments_lexer": "ipython3",
   "version": "3.9.12"
  },
  "vscode": {
   "interpreter": {
    "hash": "2043299c89c8cd0b4d1a6f5cf4529bd58e6a4e0fe3181a25e0d328c821cdc5c5"
   }
  }
 },
 "nbformat": 4,
 "nbformat_minor": 5
}
