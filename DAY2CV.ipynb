{
 "cells": [
  {
   "cell_type": "code",
   "execution_count": 1,
   "id": "048d87f4-67b8-40bc-910d-ccdccd905cfd",
   "metadata": {},
   "outputs": [],
   "source": [
    "#READ WRITE AND COLOR CONSERVATION#"
   ]
  },
  {
   "cell_type": "code",
   "execution_count": 2,
   "id": "872b180c-7976-4ef5-a7ee-f8ada3bc8622",
   "metadata": {},
   "outputs": [
    {
     "data": {
      "text/plain": [
       "-1"
      ]
     },
     "execution_count": 2,
     "metadata": {},
     "output_type": "execute_result"
    }
   ],
   "source": [
    "##To Show Image/ Display image\n",
    "#here imwrite function works to save image with given name in same directory \n",
    "#here we use waitKey(0) to hold the image \n",
    "\n",
    "import cv2 \n",
    "import numpy as np\n",
    "\n",
    "img=cv2.imread(\"C:\\\\Users\\\\Admin\\\\Pictures\\\\Akash_edited.jpg\")\n",
    "cv2.imwrite(\"me.jpg\",img)\n",
    "cv2.imshow(\"me\",img)\n",
    "cv2.waitKey(0)\n"
   ]
  },
  {
   "cell_type": "code",
   "execution_count": 3,
   "id": "acd90bc3-51f3-4e5e-b173-91871cc58f99",
   "metadata": {},
   "outputs": [
    {
     "data": {
      "text/plain": [
       "-1"
      ]
     },
     "execution_count": 3,
     "metadata": {},
     "output_type": "execute_result"
    }
   ],
   "source": [
    "##Chnage image color to grayscale simply adding 0 in imread functions\n",
    "import cv2 \n",
    "import numpy as np\n",
    "\n",
    "img=cv2.imread(\"C:\\\\Users\\\\Admin\\\\Pictures\\\\Akash_edited.jpg\",0)\n",
    "cv2.imshow(\"me\",img)\n",
    "cv2.waitKey(0)\n"
   ]
  },
  {
   "cell_type": "code",
   "execution_count": 4,
   "id": "c41620ac-0a8d-49e6-893f-9315cac6647a",
   "metadata": {},
   "outputs": [
    {
     "data": {
      "text/plain": [
       "-1"
      ]
     },
     "execution_count": 4,
     "metadata": {},
     "output_type": "execute_result"
    }
   ],
   "source": [
    "#color conversion\n",
    "## here in 4th line - convert color from image and that convert from BGR(Blue, Green, Red) To Gray color\n",
    "## And also in 5th line we add gray after \"me\" instead of img to show image as gray\n",
    "##this help in edge detection and morphology like that..\n",
    "import cv2\n",
    "import numpy as np\n",
    "img=cv2.imread(\"C:\\\\Users\\\\Admin\\\\Pictures\\\\Akash_edited.jpg\")\n",
    "gray=cv2.cvtColor(img,cv2.COLOR_BGR2GRAY)\n",
    "cv2.imshow(\"me\",gray)\n",
    "cv2.waitKey(0)"
   ]
  },
  {
   "cell_type": "code",
   "execution_count": 5,
   "id": "c2eb2471-adf2-4911-947b-1e85f7d4ad6a",
   "metadata": {},
   "outputs": [
    {
     "data": {
      "text/plain": [
       "-1"
      ]
     },
     "execution_count": 5,
     "metadata": {},
     "output_type": "execute_result"
    }
   ],
   "source": [
    "### here we have to extract color from an image \n",
    "# so we use HSV function that use in 5th line \n",
    "#in above code we use BGR2GRAY here we have to use BGR2HSV. HSV takes position of GRAY\n",
    "# this use in object detection and object boundries\n",
    "import cv2\n",
    "import numpy as np\n",
    "img=cv2.imread(\"C:\\\\Users\\\\Admin\\\\Pictures\\\\Akash_edited.jpg\")\n",
    "gray=cv2.cvtColor(img,cv2.COLOR_BGR2HSV)\n",
    "cv2.imshow(\"me\",gray)\n",
    "cv2.waitKey(0)"
   ]
  },
  {
   "cell_type": "code",
   "execution_count": 6,
   "id": "ed0f791f-6de1-4888-856d-554af1eb1cea",
   "metadata": {},
   "outputs": [
    {
     "data": {
      "text/plain": [
       "-1"
      ]
     },
     "execution_count": 6,
     "metadata": {},
     "output_type": "execute_result"
    }
   ],
   "source": [
    "#color split and merge \n",
    "import cv2\n",
    "import numpy as np\n",
    "img=cv2.imread(\"C:\\\\Users\\\\Admin\\\\Pictures\\\\Akash_edited.jpg\")\n",
    "r,b,g=cv2.split(img)\n",
    "\n",
    "cv2.imshow(\"red\",r)\n",
    "cv2.waitKey(0)"
   ]
  },
  {
   "cell_type": "code",
   "execution_count": 7,
   "id": "6bdef723-4f7c-469c-986a-8e1b25e5d0f7",
   "metadata": {},
   "outputs": [
    {
     "ename": "AttributeError",
     "evalue": "module 'cv2' has no attribute 'waitkey'",
     "output_type": "error",
     "traceback": [
      "\u001b[1;31m---------------------------------------------------------------------------\u001b[0m",
      "\u001b[1;31mAttributeError\u001b[0m                            Traceback (most recent call last)",
      "\u001b[1;32md:\\OpenCV\\Code\\DAY2CV.ipynb Cell 7\u001b[0m in \u001b[0;36m<cell line: 8>\u001b[1;34m()\u001b[0m\n\u001b[0;32m      <a href='vscode-notebook-cell:/d%3A/OpenCV/Code/DAY2CV.ipynb#W6sZmlsZQ%3D%3D?line=5'>6</a>\u001b[0m cv2\u001b[39m.\u001b[39mimshow(\u001b[39m\"\u001b[39m\u001b[39mred\u001b[39m\u001b[39m\"\u001b[39m,r)\n\u001b[0;32m      <a href='vscode-notebook-cell:/d%3A/OpenCV/Code/DAY2CV.ipynb#W6sZmlsZQ%3D%3D?line=6'>7</a>\u001b[0m cv2\u001b[39m.\u001b[39mimshow(\u001b[39m\"\u001b[39m\u001b[39mgreen\u001b[39m\u001b[39m\"\u001b[39m,g)\n\u001b[1;32m----> <a href='vscode-notebook-cell:/d%3A/OpenCV/Code/DAY2CV.ipynb#W6sZmlsZQ%3D%3D?line=7'>8</a>\u001b[0m cv2\u001b[39m.\u001b[39;49mwaitkey(\u001b[39m0\u001b[39m)\n",
      "\u001b[1;31mAttributeError\u001b[0m: module 'cv2' has no attribute 'waitkey'"
     ]
    },
    {
     "ename": "",
     "evalue": "",
     "output_type": "error",
     "traceback": [
      "\u001b[1;31mThe Kernel crashed while executing code in the the current cell or a previous cell. Please review the code in the cell(s) to identify a possible cause of the failure. Click <a href='https://aka.ms/vscodeJupyterKernelCrash'>here</a> for more info. View Jupyter <a href='command:jupyter.viewOutput'>log</a> for further details."
     ]
    }
   ],
   "source": [
    "import cv2\n",
    "import numpy as np\n",
    "img=cv2.imread(\"C:\\\\Users\\\\Admin\\\\Pictures\\\\Akash_edited.jpg\")\n",
    "r,b,g=cv2.split(img)\n",
    "\n",
    "cv2.imshow(\"red\",r)\n",
    "cv2.imshow(\"green\",g)\n",
    "cv2.waitkey(0)\n"
   ]
  },
  {
   "cell_type": "code",
   "execution_count": null,
   "id": "8c06b547-df03-4f3a-923c-4d4ad24ee59a",
   "metadata": {},
   "outputs": [],
   "source": []
  }
 ],
 "metadata": {
  "kernelspec": {
   "display_name": "Python 3.9.12 ('base')",
   "language": "python",
   "name": "python3"
  },
  "language_info": {
   "codemirror_mode": {
    "name": "ipython",
    "version": 3
   },
   "file_extension": ".py",
   "mimetype": "text/x-python",
   "name": "python",
   "nbconvert_exporter": "python",
   "pygments_lexer": "ipython3",
   "version": "3.9.12"
  },
  "vscode": {
   "interpreter": {
    "hash": "2043299c89c8cd0b4d1a6f5cf4529bd58e6a4e0fe3181a25e0d328c821cdc5c5"
   }
  }
 },
 "nbformat": 4,
 "nbformat_minor": 5
}
