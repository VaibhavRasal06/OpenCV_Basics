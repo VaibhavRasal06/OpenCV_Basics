{
 "cells": [
  {
   "cell_type": "code",
   "execution_count": 1,
   "id": "c8635fcf-3bc8-483c-a42c-661c858c7338",
   "metadata": {},
   "outputs": [],
   "source": [
    "##DETECTION_EDGES_FROM_IMAGES##"
   ]
  },
  {
   "cell_type": "code",
   "execution_count": 2,
   "id": "07a11f9b-1bce-42c6-a5d4-15764f1233d7",
   "metadata": {},
   "outputs": [],
   "source": [
    "# edges are defined as sudden and significant changes in the intensity of the image.\n",
    "# this chnage will happen between the boundries of object in images.\n",
    "# only edges are detected so ideally to understand object and its shape.\n",
    "# steps. input image = image smoothening = edge point detection = edges localization = output.\n",
    "# two types A. sobel edge detector B. canny edge detector"
   ]
  },
  {
   "cell_type": "code",
   "execution_count": 1,
   "id": "15ef38a8-113f-4bc0-ad82-51fe61c8f73d",
   "metadata": {},
   "outputs": [
    {
     "data": {
      "text/plain": [
       "-1"
      ]
     },
     "execution_count": 1,
     "metadata": {},
     "output_type": "execute_result"
    }
   ],
   "source": [
    "import cv2\n",
    "import numpy as np\n",
    "img=cv2.imread(\"C:\\\\Users\\\\Admin\\\\Pictures\\\\vithhal.jpg\")\n",
    "img=cv2.cvtColor(img,cv2.COLOR_BGR2GRAY)\n",
    "img=cv2.resize(img,(600,600))\n",
    "\n",
    "sobely=cv2.Sobel(img,cv2.CV_64F,0,1,ksize=5)\n",
    "cv2.imshow(\"gray_image\",img)\n",
    "cv2.imshow(\"sobely\",sobely)\n",
    "cv2.waitKey(0)\n"
   ]
  },
  {
   "cell_type": "code",
   "execution_count": 1,
   "id": "6343cffc-c4f2-4840-893e-f1b010482d7a",
   "metadata": {},
   "outputs": [],
   "source": [
    "# Laplacian\n",
    "#it just different from sobelx/sobely edge detection\n",
    "import cv2\n",
    "import numpy as np\n",
    "img=cv2.imread(\"C:\\\\Users\\\\Admin\\\\Pictures\\\\vithhal.jpg\")\n",
    "img=cv2.resize(img,(600,600))\n",
    "\n",
    "laplacian = cv2.Laplacian(img,cv2.CV_64F)\n",
    "\n",
    "cv2.imshow(\"gray_image\",img)\n",
    "cv2.imshow(\"laplacian\",laplacian)\n"
   ]
  },
  {
   "cell_type": "code",
   "execution_count": 1,
   "id": "82624ac7-0835-4e32-9880-7461a1c1b172",
   "metadata": {},
   "outputs": [],
   "source": [
    "#canny edge detector"
   ]
  },
  {
   "cell_type": "code",
   "execution_count": 2,
   "id": "d877c32e-9295-42cb-94d2-1307aae4f88f",
   "metadata": {},
   "outputs": [],
   "source": [
    "#to extract useful structual information from different vision objects and dramatically reduce ammount of data to be processed.\n",
    "# canny is better than other edge detection function. we generally that use.\n",
    "# in self driving cars it also use.\n",
    "# it detect image boundry using halfline.\n",
    "# in below code in 7th line we make some changes we can be use img instead of blur"
   ]
  },
  {
   "cell_type": "code",
   "execution_count": 14,
   "id": "76360ae5-3f79-4294-8c40-692ed77380b5",
   "metadata": {},
   "outputs": [
    {
     "data": {
      "text/plain": [
       "-1"
      ]
     },
     "execution_count": 14,
     "metadata": {},
     "output_type": "execute_result"
    }
   ],
   "source": [
    "import cv2\n",
    "import numpy as np\n",
    "img=cv2.imread(\"C:\\\\Users\\\\Admin\\\\Pictures\\\\its me.jpeg\")\n",
    "img=cv2.resize(img,(600,600))\n",
    "img=cv2.cvtColor(img,cv2.COLOR_BGR2GRAY)\n",
    "\n",
    "blur=cv2.GaussianBlur(img,(5,5),0)\n",
    "\n",
    "canny=cv2.Canny(img,100,200)\n",
    "cv2.imshow(\"me\",img)\n",
    "cv2.imshow(\"canny\",canny)\n",
    "cv2.waitKey(0)\n"
   ]
  },
  {
   "cell_type": "code",
   "execution_count": 1,
   "id": "c25707c9-1641-4dea-abc2-6adb849fb8bb",
   "metadata": {},
   "outputs": [
    {
     "name": "stdout",
     "output_type": "stream",
     "text": [
      "hello\n"
     ]
    }
   ],
   "source": [
    "print(\"hello\")"
   ]
  },
  {
   "cell_type": "code",
   "execution_count": null,
   "id": "fd157bb7",
   "metadata": {},
   "outputs": [],
   "source": []
  }
 ],
 "metadata": {
  "kernelspec": {
   "display_name": "Python 3.11.0 64-bit",
   "language": "python",
   "name": "python3"
  },
  "language_info": {
   "codemirror_mode": {
    "name": "ipython",
    "version": 3
   },
   "file_extension": ".py",
   "mimetype": "text/x-python",
   "name": "python",
   "nbconvert_exporter": "python",
   "pygments_lexer": "ipython3",
   "version": "3.11.0"
  },
  "vscode": {
   "interpreter": {
    "hash": "72b2382ece9768098284d92bbc69d35954e75b60d1e25897d1389c232f4796f0"
   }
  }
 },
 "nbformat": 4,
 "nbformat_minor": 5
}
